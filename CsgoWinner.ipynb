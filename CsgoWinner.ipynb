{
 "cells": [
  {
   "cell_type": "code",
   "execution_count": 3,
   "id": "3bf561ed-c184-49be-a29f-7cb88b0ae93f",
   "metadata": {},
   "outputs": [],
   "source": [
    "import requests\n",
    "import pandas as pd\n",
    "import numpy as np\n",
    "import matplotlib.pyplot as plt"
   ]
  },
  {
   "cell_type": "code",
   "execution_count": 7,
   "id": "8a737de4-c5a5-4a29-88f9-0399085e974b",
   "metadata": {},
   "outputs": [],
   "source": [
    "url = \"https://www.openml.org/data/download/22102255/dataset\"\n",
    "r = requests.get(url, allow_redirects = True)"
   ]
  },
  {
   "cell_type": "code",
   "execution_count": null,
   "id": "c5951504-b52d-485f-a5bc-ea1ce04b04e8",
   "metadata": {},
   "outputs": [],
   "source": [
    "with open(\"dataset.txt\", \"wb\") as f:\n",
    "    f.write(r\n",
    "    "
   ]
  }
 ],
 "metadata": {
  "kernelspec": {
   "display_name": "Python 3 (ipykernel)",
   "language": "python",
   "name": "python3"
  },
  "language_info": {
   "codemirror_mode": {
    "name": "ipython",
    "version": 3
   },
   "file_extension": ".py",
   "mimetype": "text/x-python",
   "name": "python",
   "nbconvert_exporter": "python",
   "pygments_lexer": "ipython3",
   "version": "3.12.4"
  }
 },
 "nbformat": 4,
 "nbformat_minor": 5
}
